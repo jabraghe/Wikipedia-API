{
 "cells": [
  {
   "cell_type": "markdown",
   "metadata": {},
   "source": [
    "### Hello.\n",
    "\n",
    "### Did you know that Wikipedia have their own API to access articles and other information? \n",
    "#### Here we will go through the basics, but more documentation can be found here: https://wikipedia.readthedocs.io/en/latest/code.html#api"
   ]
  },
  {
   "cell_type": "code",
   "execution_count": 47,
   "metadata": {},
   "outputs": [
    {
     "name": "stdout",
     "output_type": "stream",
     "text": [
      "Requirement already satisfied: wikipedia in /anaconda2/envs/nanodegree/lib/python3.6/site-packages (1.4.0)\n",
      "Requirement already satisfied: beautifulsoup4 in /anaconda2/envs/nanodegree/lib/python3.6/site-packages (from wikipedia) (4.7.1)\n",
      "Requirement already satisfied: requests<3.0.0,>=2.0.0 in /anaconda2/envs/nanodegree/lib/python3.6/site-packages (from wikipedia) (2.21.0)\n",
      "Requirement already satisfied: soupsieve>=1.2 in /anaconda2/envs/nanodegree/lib/python3.6/site-packages (from beautifulsoup4->wikipedia) (1.6.2)\n",
      "Requirement already satisfied: idna<2.9,>=2.5 in /anaconda2/envs/nanodegree/lib/python3.6/site-packages (from requests<3.0.0,>=2.0.0->wikipedia) (2.8)\n",
      "Requirement already satisfied: urllib3<1.25,>=1.21.1 in /anaconda2/envs/nanodegree/lib/python3.6/site-packages (from requests<3.0.0,>=2.0.0->wikipedia) (1.24.1)\n",
      "Requirement already satisfied: certifi>=2017.4.17 in /anaconda2/envs/nanodegree/lib/python3.6/site-packages (from requests<3.0.0,>=2.0.0->wikipedia) (2018.11.29)\n",
      "Requirement already satisfied: chardet<3.1.0,>=3.0.2 in /anaconda2/envs/nanodegree/lib/python3.6/site-packages (from requests<3.0.0,>=2.0.0->wikipedia) (3.0.4)\n"
     ]
    }
   ],
   "source": [
    "# First, you need to install the wikipedia package to have access its contents\n",
    "!pip install wikipedia"
   ]
  },
  {
   "cell_type": "code",
   "execution_count": 48,
   "metadata": {},
   "outputs": [],
   "source": [
    "# import the wikipedia package\n",
    "import wikipedia as wp"
   ]
  },
  {
   "cell_type": "code",
   "execution_count": 49,
   "metadata": {},
   "outputs": [
    {
     "data": {
      "text/plain": [
       "['Johann Strauss II',\n",
       " 'Johann Strauss I',\n",
       " 'List of compositions by Johann Strauss II',\n",
       " 'Johann Strauss (disambiguation)',\n",
       " 'Strauss',\n",
       " 'Nita Strauss',\n",
       " 'The Strauss Family',\n",
       " 'Eduard Strauss',\n",
       " 'List of operettas by Johann Strauss II',\n",
       " 'Johann']"
      ]
     },
     "execution_count": 49,
     "metadata": {},
     "output_type": "execute_result"
    }
   ],
   "source": [
    "# Search for articles with a keyword. Today we want to know a bit more about the composer Johann Strauss\n",
    "wp.search('Johann Strauss composer') "
   ]
  },
  {
   "cell_type": "code",
   "execution_count": 50,
   "metadata": {},
   "outputs": [
    {
     "data": {
      "text/plain": [
       "['Johann Strauss II',\n",
       " 'Johann Strauss I',\n",
       " 'List of compositions by Johann Strauss II',\n",
       " 'Johann Strauss (disambiguation)',\n",
       " 'Strauss']"
      ]
     },
     "execution_count": 50,
     "metadata": {},
     "output_type": "execute_result"
    }
   ],
   "source": [
    "wp.search('Johann Strauss composer',results=5) # if you want the list of the first five results"
   ]
  },
  {
   "cell_type": "code",
   "execution_count": 51,
   "metadata": {},
   "outputs": [
    {
     "data": {
      "text/plain": [
       "'Johann Strauss II (born Johann Baptist Strauss; 25 October 1825 – 3 June 1899), also known as Johann Strauss Jr., the Younger, the Son (German: Sohn), son of Johann Strauss I, was an Austrian composer of light music, particularly dance music and operettas. He composed over 500 waltzes, polkas, quadrilles, and other types of dance music, as well as several operettas and a ballet. In his lifetime, he was known as \"The Waltz King\", and was largely responsible for the popularity of the waltz in Vienna during the 19th century.\\nStrauss had two younger brothers, Josef and Eduard Strauss, who became composers of light music as well, although they were never as well known as their elder brother. Some of Johann Strauss\\'s most famous works include \"The Blue Danube\", \"Kaiser-Walzer\" (Emperor Waltz), \"Tales from the Vienna Woods\", and the \"Tritsch-Tratsch-Polka\". Among his operettas, Die Fledermaus and Der Zigeunerbaron are the best known.'"
      ]
     },
     "execution_count": 51,
     "metadata": {},
     "output_type": "execute_result"
    }
   ],
   "source": [
    "# a summary from wiki page\n",
    "wp.summary('Johann Strauss composer')   # wp.summary('IrelJohann Strauss composerand',sentences=1) to get only one sentence"
   ]
  },
  {
   "cell_type": "markdown",
   "metadata": {},
   "source": [
    "## You are listening The Blue Danube of Johann Strauss II "
   ]
  },
  {
   "cell_type": "code",
   "execution_count": 52,
   "metadata": {},
   "outputs": [],
   "source": [
    "# Once you have found the article you want it is simple to extract all the relevant information\n",
    "The_Blue_Danube = wp.page('The Blue Danube')"
   ]
  },
  {
   "cell_type": "code",
   "execution_count": 54,
   "metadata": {},
   "outputs": [
    {
     "data": {
      "text/plain": [
       "['https://upload.wikimedia.org/wikipedia/commons/7/7e/An_der_sch%C3%B6nen_blauen_Donau.ogg',\n",
       " 'https://upload.wikimedia.org/wikipedia/commons/2/2b/Bluedanubewaltz.jpg',\n",
       " 'https://upload.wikimedia.org/wikipedia/commons/e/e7/Donauwalzer_Spina_01.jpg',\n",
       " 'https://upload.wikimedia.org/wikipedia/commons/c/cb/Gnome-mime-audio-openclipart.svg',\n",
       " 'https://upload.wikimedia.org/wikipedia/commons/8/87/Gnome-mime-sound-openclipart.svg',\n",
       " 'https://upload.wikimedia.org/wikipedia/commons/9/91/Strauss%2C_An_der_sch%C3%B6nen_blauen_Donau.ogg',\n",
       " 'https://upload.wikimedia.org/wikipedia/en/4/4a/Commons-logo.svg',\n",
       " 'https://upload.wikimedia.org/wikipedia/en/8/8a/OOjs_UI_icon_edit-ltr-progressive.svg']"
      ]
     },
     "execution_count": 54,
     "metadata": {},
     "output_type": "execute_result"
    }
   ],
   "source": [
    "# This object can now be manipulated to extract title, content,\n",
    "# images, link, etc:\n",
    "# The_Blue_Danube.title\n",
    "# The_Blue_Danube.content\n",
    "The_Blue_Danube.images\n",
    "# The_Blue_Danube.links"
   ]
  },
  {
   "cell_type": "code",
   "execution_count": 55,
   "metadata": {},
   "outputs": [
    {
     "data": {
      "text/html": [
       "<img src=\"https://upload.wikimedia.org/wikipedia/commons/2/2b/Bluedanubewaltz.jpg\"/>"
      ],
      "text/plain": [
       "<IPython.core.display.Image object>"
      ]
     },
     "execution_count": 55,
     "metadata": {},
     "output_type": "execute_result"
    }
   ],
   "source": [
    "from IPython.display import Image\n",
    "from IPython.core.display import HTML \n",
    "Image(url= \"https://upload.wikimedia.org/wikipedia/commons/2/2b/Bluedanubewaltz.jpg\")"
   ]
  },
  {
   "cell_type": "markdown",
   "metadata": {},
   "source": [
    "## Thanks for Watching and Listening Johann Strauss with me"
   ]
  },
  {
   "cell_type": "code",
   "execution_count": null,
   "metadata": {},
   "outputs": [],
   "source": []
  }
 ],
 "metadata": {
  "kernelspec": {
   "display_name": "Python 3",
   "language": "python",
   "name": "python3"
  },
  "language_info": {
   "codemirror_mode": {
    "name": "ipython",
    "version": 3
   },
   "file_extension": ".py",
   "mimetype": "text/x-python",
   "name": "python",
   "nbconvert_exporter": "python",
   "pygments_lexer": "ipython3",
   "version": "3.6.4"
  }
 },
 "nbformat": 4,
 "nbformat_minor": 2
}
